{
 "metadata": {
  "language_info": {
   "codemirror_mode": {
    "name": "ipython",
    "version": 3
   },
   "file_extension": ".py",
   "mimetype": "text/x-python",
   "name": "python",
   "nbconvert_exporter": "python",
   "pygments_lexer": "ipython3",
   "version": "3.7.9-final"
  },
  "orig_nbformat": 2,
  "kernelspec": {
   "name": "Python 3.7.9 64-bit",
   "display_name": "Python 3.7.9 64-bit",
   "metadata": {
    "interpreter": {
     "hash": "cbc1630f6ac27d00c9f4ea5ff59d07a3d2920d2fb3e683b05679c37215caa53f"
    }
   }
  }
 },
 "nbformat": 4,
 "nbformat_minor": 2,
 "cells": [
  {
   "source": [
    "print('what the hell')"
   ],
   "cell_type": "markdown",
   "metadata": {
    "tags": []
   }
  },
  {
   "cell_type": "code",
   "execution_count": 1,
   "metadata": {
    "tags": []
   },
   "outputs": [
    {
     "output_type": "stream",
     "name": "stdout",
     "text": "US floor 6\n"
    }
   ],
   "source": [
    "#convert elevator floors\n",
    "inp = input('type the EU Floor ')\n",
    "us = int(inp) + 1\n",
    "print ('US floor', us)\n",
    "\n"
   ]
  },
  {
   "cell_type": "code",
   "execution_count": 3,
   "metadata": {
    "tags": []
   },
   "outputs": [
    {
     "output_type": "stream",
     "name": "stdout",
     "text": "123abc\n"
    }
   ],
   "source": [
    "print('123'+'abc')"
   ]
  },
  {
   "cell_type": "code",
   "execution_count": 6,
   "metadata": {
    "tags": []
   },
   "outputs": [
    {
     "output_type": "stream",
     "name": "stdout",
     "text": "98\n"
    }
   ],
   "source": [
    "x = int(98.6)\n",
    "print(x)"
   ]
  },
  {
   "cell_type": "code",
   "execution_count": 8,
   "metadata": {},
   "outputs": [],
   "source": [
    "hrs = input(\"Enter Hours:\")\n",
    "rate = 2.75\n",
    "pay = rate*int(hrs)\n",
    "print = (\"Pay:\", rate)\n"
   ]
  },
  {
   "cell_type": "code",
   "execution_count": null,
   "metadata": {},
   "outputs": [],
   "source": [
    "hs = input(\"Enter Hours:\")\n",
    "rte = input(\"Enter Rate:\")\n",
    "try:\n",
    "\n",
    "    hrs = float(hs)\n",
    "    rate = float(rte)\n",
    "except:\n",
    "    print('digits plx')\n",
    "    quit()\n",
    "\n",
    "if (hrs) <= 40 :\n",
    "    pay = (hrs)*(rate)\n",
    "    print (pay)\n",
    "\n",
    "elif (hrs) > 40:\n",
    "    nhrs= (hrs)-40\n",
    "    pay = (40*(rate)) + ((nhrs)* (1.5*(rate)))\n",
    "    print (pay)"
   ]
  },
  {
   "cell_type": "code",
   "execution_count": null,
   "metadata": {},
   "outputs": [],
   "source": [
    "hours = input(\"Enter Hours:\")\n",
    "ratee = input(\"Enter Rate:\")\n",
    "\n",
    "\n",
    "def computepay(hs, rte):\n",
    "    hrs = float(hs)\n",
    "    rate = float(rte)\n",
    "\n",
    "    if (hrs) <= 40:\n",
    "        pay = (hrs)*(rate)\n",
    "\n",
    "    elif (hrs) > 40:\n",
    "        nhrs = (hrs)-40\n",
    "        pay = (40*(rate)) + ((nhrs) * (1.5*(rate)))\n",
    "    \n",
    "    return pay\n",
    "\n",
    "p = computepay(hours,ratee)\n",
    "print('Pay',p)\n"
   ]
  },
  {
   "cell_type": "code",
   "execution_count": 4,
   "metadata": {
    "tags": []
   },
   "outputs": [
    {
     "output_type": "stream",
     "name": "stdout",
     "text": "what us rajnish\nwhat us oigeirg\nwhat us ergev\n"
    }
   ],
   "source": [
    "friends = ('rajnish','oigeirg','ergev')\n",
    "for friend in friends:\n",
    "    print ('what us',friend)"
   ]
  },
  {
   "cell_type": "code",
   "execution_count": 13,
   "metadata": {
    "tags": []
   },
   "outputs": [
    {
     "output_type": "stream",
     "name": "stdout",
     "text": "634\n1754\n"
    }
   ],
   "source": [
    "numbers = (3, -5,54, 6, 345, 235, 76, 4, 634, 346, 5, 45, 6)\n",
    "big = None\n",
    "x=0\n",
    "for number in numbers:\n",
    "    x=x+number\n",
    "    if big is None:\n",
    "        big = number\n",
    "    elif number > big:\n",
    "        big = number\n",
    "print(big)\n",
    "print(x)\n"
   ]
  },
  {
   "cell_type": "code",
   "execution_count": null,
   "metadata": {},
   "outputs": [],
   "source": [
    "largest = None\n",
    "smallest = None\n",
    "while True:\n",
    "    num = input(\"Enter a number: \")\n",
    "    if num == \"done\" : break\n",
    "    try:\n",
    "        num = int(num)\n",
    "    except:\n",
    "        print (\"Invalid input\")\n",
    "        continue\n",
    "    if largest is None:\n",
    "            largest = num\n",
    "            smallest = num\n",
    "    if num>largest:\n",
    "        largest=num\n",
    "    elif num<smallest:\n",
    "        smallest=num\n",
    "\n",
    "print(\"Maximum is\", largest)\n",
    "print(\"Minimum is\", smallest)\n"
   ]
  },
  {
   "cell_type": "code",
   "execution_count": null,
   "metadata": {},
   "outputs": [],
   "source": []
  }
 ]
}