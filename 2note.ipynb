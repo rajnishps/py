{
 "metadata": {
  "language_info": {
   "codemirror_mode": {
    "name": "ipython",
    "version": 3
   },
   "file_extension": ".py",
   "mimetype": "text/x-python",
   "name": "python",
   "nbconvert_exporter": "python",
   "pygments_lexer": "ipython3",
   "version": "3.7.9-final"
  },
  "orig_nbformat": 2,
  "kernelspec": {
   "name": "Python 3.7.9 64-bit",
   "display_name": "Python 3.7.9 64-bit",
   "metadata": {
    "interpreter": {
     "hash": "cbc1630f6ac27d00c9f4ea5ff59d07a3d2920d2fb3e683b05679c37215caa53f"
    }
   }
  }
 },
 "nbformat": 4,
 "nbformat_minor": 2,
 "cells": [
  {
   "cell_type": "code",
   "execution_count": 13,
   "metadata": {
    "tags": []
   },
   "outputs": [
    {
     "output_type": "stream",
     "name": "stdout",
     "text": "b\na\nn\na\nn\na\n"
    }
   ],
   "source": [
    "fruits = 'banana'\n",
    "for letter in fruits:\n",
    "    print(letter)"
   ]
  },
  {
   "cell_type": "code",
   "execution_count": 10,
   "metadata": {
    "tags": []
   },
   "outputs": [
    {
     "output_type": "stream",
     "name": "stdout",
     "text": "6\n"
    }
   ],
   "source": [
    "fruit = 'banana'\n",
    "length = len(fruit)\n",
    "print (length)"
   ]
  },
  {
   "cell_type": "code",
   "execution_count": 18,
   "metadata": {
    "tags": []
   },
   "outputs": [
    {
     "output_type": "stream",
     "name": "stdout",
     "text": "3\n"
    }
   ],
   "source": [
    "fruits = 'banana'\n",
    "c=0\n",
    "for letter in fruits:\n",
    "    if letter==\"a\":\n",
    "        c=c+1\n",
    "print(c)\n"
   ]
  },
  {
   "cell_type": "code",
   "execution_count": 22,
   "metadata": {
    "tags": []
   },
   "outputs": [
    {
     "output_type": "stream",
     "name": "stdout",
     "text": "rajnish\nPratap\nSingh\n"
    }
   ],
   "source": [
    "name='rajnishPratapSingh'\n",
    "print (name[0:7])\n",
    "print (name[7:13])\n",
    "print (name[13:50])\n"
   ]
  },
  {
   "cell_type": "code",
   "execution_count": 25,
   "metadata": {
    "tags": []
   },
   "outputs": [
    {
     "output_type": "stream",
     "name": "stdout",
     "text": "yesz\n"
    }
   ],
   "source": [
    "name='rajnishPratapSingh'\n",
    "\n",
    "if 'a' in name:\n",
    "    print('yesz')"
   ]
  },
  {
   "cell_type": "code",
   "execution_count": 33,
   "metadata": {
    "tags": []
   },
   "outputs": [
    {
     "output_type": "stream",
     "name": "stdout",
     "text": "heyyyyyyyyyyyyyyyyyyyyyyyyyyyyyy\nheyyyyyyyyyyyyyyyyyyyyyyyyyyyyyy\nheyyyyyyyyyyyyyyyyyyyyyyyyyyyyyy\nheyyyyyyyyyyyyyyyyyyyyyyyyyyyyyy\nheyyyyyyyyyyyyyyyyyyyyyyyyyyyyyy\nheyyyyyyyyyyyyyyyyyyyyyyyyyyyyyy\nheyyyyyyyyyyyyyyyyyyyyyyyyyyyyyy\nheyyyyyyyyyyyyyyyyyyyyyyyyyyyyyy\nheyyyyyyyyyyyyyyyyyyyyyyyyyyyyyy\nheyyyyyyyyyyyyyyyyyyyyyyyyyyyyyy\n"
    }
   ],
   "source": [
    "a=10\n",
    "while a>0:\n",
    "    a=a-1\n",
    "    print ('heyyyyyyyyyyyyyyyyyyyyyyyyyyyyyy')"
   ]
  },
  {
   "cell_type": "code",
   "execution_count": 52,
   "metadata": {
    "tags": []
   },
   "outputs": [
    {
     "output_type": "stream",
     "name": "stdout",
     "text": "RAJNISH PRATAP SINGH\nrajnish pratap singh\nrzjnish prztzp singh\njnish\n"
    }
   ],
   "source": [
    "name='rajnish Pratap Singh'\n",
    "print(name.upper())\n",
    "print(name.lower())\n",
    "rep= nameee.replace('a','z')\n",
    "print(rep)\n",
    "atpos = name.find('a')\n",
    "sppos=name.find(' ')\n",
    "host=name[atpos+1 : sppos]\n",
    "print(host)\n"
   ]
  },
  {
   "cell_type": "code",
   "execution_count": 56,
   "metadata": {
    "tags": []
   },
   "outputs": [
    {
     "output_type": "stream",
     "name": "stdout",
     "text": " From stephen.marquard@uct.ac.za Sat Jan  5 09:14:16 2008 \nFrom stephen.marquard@uct.ac.za Sat Jan  5 09:14:16 2008\n"
    }
   ],
   "source": [
    "data = ' From stephen.marquard@uct.ac.za Sat Jan  5 09:14:16 2008 '\n",
    "\n",
    "print(data)\n",
    "\n",
    "print(data.strip())"
   ]
  },
  {
   "cell_type": "code",
   "execution_count": 57,
   "metadata": {
    "tags": []
   },
   "outputs": [
    {
     "output_type": "stream",
     "name": "stdout",
     "text": "0.8475\n"
    }
   ],
   "source": [
    "text = \"X-DSPAM-Confidence:    0.8475\";\n",
    "nu=text.find('0.8475')\n",
    "num=text[nu:nu+6]\n",
    "num=float(num)\n",
    "print(num)"
   ]
  },
  {
   "cell_type": "code",
   "execution_count": 64,
   "metadata": {
    "tags": []
   },
   "outputs": [
    {
     "output_type": "stream",
     "name": "stdout",
     "text": "oierjgwermg\nwerg'jwteboiegm\nrgwebuwtobw\ntbwibnmv[pqrevl\nre'gbevp\nggwbttgrknmr\ngwribgnoewivrjw\nbwbrvwebv'nwe\n'vbervniwo'eve\nvuebvervbbq\nervervr]\ntotal no. of lines 11\n"
    }
   ],
   "source": [
    "file = open('read.txt')\n",
    "count=0\n",
    "for go in file:\n",
    "    print(go.rstrip())\n",
    "    count=count+1\n",
    "print(\"total no. of lines\",count)"
   ]
  },
  {
   "cell_type": "code",
   "execution_count": 12,
   "metadata": {
    "tags": []
   },
   "outputs": [
    {
     "output_type": "stream",
     "name": "stdout",
     "text": "[2, 3, 4, 5, 6, 25, 34]\n"
    }
   ],
   "source": [
    "nums = [4,25,2,3,6,34,5]\n",
    "nums.sort()\n",
    "print(nums)"
   ]
  },
  {
   "cell_type": "code",
   "execution_count": 13,
   "metadata": {
    "tags": []
   },
   "outputs": [
    {
     "output_type": "stream",
     "name": "stdout",
     "text": "['4', '25', '2', '3', '6', '34', '5']\n"
    }
   ],
   "source": [
    "nums = '4,25,2,3,6,34,5'\n",
    "num =  nums.split(',')\n",
    "print(num)"
   ]
  },
  {
   "cell_type": "code",
   "execution_count": 32,
   "metadata": {
    "tags": []
   },
   "outputs": [
    {
     "output_type": "stream",
     "name": "stdout",
     "text": "7\n"
    }
   ],
   "source": [
    "nums = [4,25,2,3,6,34,5]\n",
    "print(len(nums))\n"
   ]
  },
  {
   "cell_type": "code",
   "execution_count": 33,
   "metadata": {
    "tags": []
   },
   "outputs": [
    {
     "output_type": "stream",
     "name": "stdout",
     "text": "6\n"
    }
   ],
   "source": [
    "a = [1, 2, 3]\n",
    "b = [4, 5, 6]\n",
    "c = a + b\n",
    "print(len(c))\n"
   ]
  },
  {
   "cell_type": "code",
   "execution_count": null,
   "metadata": {},
   "outputs": [],
   "source": [
    "fname = (\"romeo.txt\")\n",
    "fh = open(fname)\n",
    "\n",
    "para=None\n",
    "\n",
    "for line in fh:\n",
    "    \n",
    "    if para == None:\n",
    "        para= line\n",
    "    else:\n",
    "        para=para+line\n",
    "\n",
    "lis = para.split()\n",
    "lis.sort()\n",
    "\n",
    "nlis = []\n",
    "for i in lis: \n",
    "    if i not in nlis: \n",
    "        nlis.append(i)\n",
    "print(nlis)\n"
   ]
  },
  {
   "cell_type": "code",
   "execution_count": 40,
   "metadata": {
    "tags": []
   },
   "outputs": [
    {
     "output_type": "stream",
     "name": "stdout",
     "text": "stephen.marquard@uct.ac.za\nlouis@media.berkeley.edu\nzqian@umich.edu\nrjlowe@iupui.edu\nzqian@umich.edu\nrjlowe@iupui.edu\ncwen@iupui.edu\ncwen@iupui.edu\ngsilver@umich.edu\ngsilver@umich.edu\nzqian@umich.edu\ngsilver@umich.edu\nwagnermr@iupui.edu\nzqian@umich.edu\nantranig@caret.cam.ac.uk\ngopal.ramasammycook@gmail.com\ndavid.horwitz@uct.ac.za\ndavid.horwitz@uct.ac.za\ndavid.horwitz@uct.ac.za\ndavid.horwitz@uct.ac.za\nstephen.marquard@uct.ac.za\nlouis@media.berkeley.edu\nlouis@media.berkeley.edu\nray@media.berkeley.edu\ncwen@iupui.edu\ncwen@iupui.edu\ncwen@iupui.edu\nThere were 27 lines in the file with From as the first word\n"
    }
   ],
   "source": [
    "fname = input(\"Enter file name: \")\n",
    "if len(fname) < 1 : fname = \"mbox-short.txt\"\n",
    "\n",
    "fh = open(fname)\n",
    "count = 0\n",
    "for line in fh:\n",
    "    if not line.startswith('From'):\n",
    "        continue\n",
    "    if line.startswith('From:'):\n",
    "        continue\n",
    "    else:\n",
    "        line=line.split()\n",
    "        line = line[1]\n",
    "        print(line)\n",
    "    count +=1\n",
    "print(\"There were\", count, \"lines in the file with From as the first word\")\n"
   ]
  },
  {
   "cell_type": "code",
   "execution_count": 38,
   "metadata": {
    "tags": []
   },
   "outputs": [
    {
     "output_type": "stream",
     "name": "stdout",
     "text": "money\nbe\nhe\ngo\n"
    }
   ],
   "source": [
    "bag={}\n",
    "bag['money'] = 234\n",
    "bag['be'] = 436\n",
    "bag['he'] = 65\n",
    "bag['go'] = 'dfbd'\n",
    "for y in bag:\n",
    "    print (y)\n"
   ]
  },
  {
   "cell_type": "code",
   "execution_count": 39,
   "metadata": {
    "tags": []
   },
   "outputs": [
    {
     "output_type": "stream",
     "name": "stdout",
     "text": "-1\n"
    }
   ],
   "source": [
    "stuff = dict()\n",
    "print(stuff.get('candy',-1))"
   ]
  }
 ]
}