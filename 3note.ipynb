{
 "metadata": {
  "language_info": {
   "codemirror_mode": {
    "name": "ipython",
    "version": 3
   },
   "file_extension": ".py",
   "mimetype": "text/x-python",
   "name": "python",
   "nbconvert_exporter": "python",
   "pygments_lexer": "ipython3",
   "version": "3.7.9-final"
  },
  "orig_nbformat": 2,
  "kernelspec": {
   "name": "Python 3.7.9 64-bit",
   "display_name": "Python 3.7.9 64-bit",
   "metadata": {
    "interpreter": {
     "hash": "cbc1630f6ac27d00c9f4ea5ff59d07a3d2920d2fb3e683b05679c37215caa53f"
    }
   }
  }
 },
 "nbformat": 4,
 "nbformat_minor": 2,
 "cells": [
  {
   "cell_type": "code",
   "execution_count": 1,
   "metadata": {
    "tags": []
   },
   "outputs": [
    {
     "output_type": "stream",
     "name": "stdout",
     "text": "['stephen.marquard@uct.ac.za']\n"
    }
   ],
   "source": [
    "import re\n",
    "\n",
    "x = 'From stephen.marquard@uct.ac.za Sat Jan  5 09:14:16 2008'\n",
    "on = re.findall('\\S+?@\\S+', x)\n",
    "print(on)\n"
   ]
  },
  {
   "cell_type": "code",
   "execution_count": null,
   "metadata": {},
   "outputs": [],
   "source": [
    "import re\n",
    "\n",
    "fname = (\"regex_sum_996616.txt\")\n",
    "\n",
    "sum = 0\n",
    "fh = open(fname)\n",
    "for line in fh:\n",
    "    dig = re.findall('[0-9]+', line)\n",
    "    for di in dig:\n",
    "        sum += int(di)\n",
    "print(sum)\n"
   ]
  },
  {
   "cell_type": "code",
   "execution_count": 2,
   "metadata": {
    "tags": []
   },
   "outputs": [
    {
     "output_type": "stream",
     "name": "stdout",
     "text": "417167\n"
    }
   ],
   "source": [
    "import re\n",
    "\n",
    "def num(name):\n",
    "    filename = (name)\n",
    "    sum = 0\n",
    "    fileholder = open(filename)\n",
    "\n",
    "    for line in fileholder:\n",
    "        numbers = re.findall('[0-9]+', line)\n",
    "        for number in numbers:\n",
    "            sum += int(number)\n",
    "    return sum\n",
    "\n",
    "file=input(\"Enter File name: \")\n",
    "if len(file) < 1 : file = \"regex_sum_996616.txt\"\n",
    "\n",
    "x= num(file)\n",
    "print(x)\n",
    "\n",
    "#regex_sum_996616.txt"
   ]
  },
  {
   "cell_type": "code",
   "execution_count": null,
   "metadata": {},
   "outputs": [],
   "source": [
    "import socket\n",
    "\n",
    "mysock = socket.socket(socket.AF_INET, socket.SOCK_STREAM)\n",
    "mysock.connect(('data.pr4e.org', 80))\n",
    "cmd = 'GET http://data.pr4e.org/intro-short.txt HTTP/1.0\\r\\n\\r\\n'.encode()\n",
    "mysock.send(cmd)\n",
    "\n",
    "while True:\n",
    "    data = mysock.recv(512)\n",
    "    if len(data) < 1:\n",
    "        break\n",
    "    print(data.decode(),end='')\n",
    "\n",
    "mysock.close()"
   ]
  },
  {
   "cell_type": "code",
   "execution_count": 10,
   "metadata": {
    "tags": []
   },
   "outputs": [
    {
     "output_type": "stream",
     "name": "stdout",
     "text": "105\n"
    }
   ],
   "source": [
    "print(ord(''))"
   ]
  },
  {
   "cell_type": "code",
   "execution_count": null,
   "metadata": {},
   "outputs": [],
   "source": [
    "import urllib.request\n",
    "import urllib.parse\n",
    "import urllib.error\n",
    "\n",
    "fhand = urllib.request.urlopen('http://data.pr4e.org/intro-short.txt')\n",
    "\n",
    "counts={}\n",
    "for line in fhand:\n",
    "    words = line.decode().split()\n",
    "    for word in words:\n",
    "        counts[word] = counts.get(word, 0) +1\n",
    "print(counts)\n"
   ]
  },
  {
   "cell_type": "code",
   "execution_count": null,
   "metadata": {},
   "outputs": [],
   "source": [
    "\n",
    "from urllib.request import urlopen\n",
    "from bs4 import BeautifulSoup\n",
    "import ssl\n",
    "\n",
    "# Ignore SSL certificate errors\n",
    "ctx = ssl.create_default_context()\n",
    "ctx.check_hostname = False\n",
    "ctx.verify_mode = ssl.CERT_NONE\n",
    "\n",
    "url = ('http://py4e-data.dr-chuck.net/comments_996618.html')\n",
    "html = urlopen(url, context=ctx).read()\n",
    "soup = BeautifulSoup(html, \"html.parser\")\n",
    "\n",
    "sum = 0\n",
    "# Retrieve all of the anchor tags\n",
    "tags = soup('span')\n",
    "for tag in tags:\n",
    "    # Look at the parts of a tag\n",
    "    sum +=int(tag.contents[0])\n",
    "\n",
    "print(sum)"
   ]
  },
  {
   "cell_type": "code",
   "execution_count": null,
   "metadata": {},
   "outputs": [],
   "source": [
    "import urllib.request\n",
    "import urllib.parse\n",
    "import urllib.error\n",
    "from bs4 import BeautifulSoup\n",
    "import ssl\n",
    "\n",
    "ctx = ssl.create_default_context()\n",
    "ctx.check_hostname = False\n",
    "ctx.verify_mode = ssl.CERT_NONE\n",
    "\n",
    "link = input('enter url')\n",
    "pos = int(input('enter Position'))\n",
    "counts = int(input('enter the Count'))\n",
    "\n",
    "while pos != 0:\n",
    "    url = (link)\n",
    "    html = urllib.request.urlopen(url, context=ctx).read()\n",
    "    soup = BeautifulSoup(html, 'html.parser')\n",
    "\n",
    "    count=counts\n",
    "    tags = soup('a')\n",
    "    for tag in tags:\n",
    "        if count == 0:\n",
    "            continue\n",
    "        count -= 1\n",
    "        link = (tag.get('href', None))\n",
    "    \n",
    "    pos -= 1\n",
    "\n",
    "    print(link)\n"
   ]
  }
 ]
}